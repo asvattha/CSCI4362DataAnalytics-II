{
 "cells": [
  {
   "cell_type": "code",
   "execution_count": 55,
   "id": "6eeda701",
   "metadata": {},
   "outputs": [
    {
     "data": {
      "text/plain": [
       "dict_keys(['data', 'target', 'frame', 'categories', 'feature_names', 'target_names', 'DESCR', 'details', 'url'])"
      ]
     },
     "execution_count": 55,
     "metadata": {},
     "output_type": "execute_result"
    }
   ],
   "source": [
    "from sklearn.datasets import fetch_openml\n",
    "\n",
    "mnist = fetch_openml('mnist_784', version = 1, as_frame = False)\n",
    "mnist.keys()"
   ]
  },
  {
   "cell_type": "code",
   "execution_count": 63,
   "id": "af6864b2",
   "metadata": {},
   "outputs": [],
   "source": [
    "import numpy as np\n",
    "\n",
    "X, y = mnist[\"data\"], mnist[\"target\"]\n",
    "\n",
    "y = y.astype(np.uint8) # convert the string labels to int labels"
   ]
  },
  {
   "cell_type": "code",
   "execution_count": 64,
   "id": "5bf3770b",
   "metadata": {},
   "outputs": [
    {
     "data": {
      "text/plain": [
       "((70000, 784), (70000,))"
      ]
     },
     "execution_count": 64,
     "metadata": {},
     "output_type": "execute_result"
    }
   ],
   "source": [
    "X.shape, y.shape"
   ]
  },
  {
   "cell_type": "code",
   "execution_count": 65,
   "id": "4d2841d9",
   "metadata": {},
   "outputs": [
    {
     "data": {
      "image/png": "[encoded data removed]",
      "text/plain": [
       "<Figure size 432x288 with 1 Axes>"
      ]
     },
     "metadata": {
      "needs_background": "light"
     },
     "output_type": "display_data"
    }
   ],
   "source": [
    "# Plotting the image\n",
    "import matplotlib.pyplot as plt\n",
    "%matplotlib inline\n",
    "\n",
    "sample = X[0]\n",
    "sample_image = sample.reshape(28, 28)\n",
    "\n",
    "plt.imshow(sample_image, cmap=\"gray\")\n",
    "plt.axis('off')\n",
    "plt.show()"
   ]
  },
  {
   "cell_type": "code",
   "execution_count": 66,
   "id": "434d56cb",
   "metadata": {},
   "outputs": [
    {
     "data": {
      "text/plain": [
       "((60000, 784), (60000,), (10000, 784), (10000,))"
      ]
     },
     "execution_count": 66,
     "metadata": {},
     "output_type": "execute_result"
    }
   ],
   "source": [
    "# Splitting the dataset into train and test set\n",
    "\n",
    "num_samples = 60000\n",
    "X_train, y_train = X[:num_samples]/ 255.0, y[:num_samples]   # dividing by 255 to have all values\n",
    "# between 0 and 1\n",
    "X_test, y_test = X[num_samples:] / 255.0, y[num_samples:] \n",
    "\n",
    "X_train.shape, y_train.shape, X_test.shape, y_test.shape"
   ]
  },
  {
   "cell_type": "code",
   "execution_count": 67,
   "id": "1b84ad84",
   "metadata": {},
   "outputs": [
    {
     "data": {
      "text/plain": [
       "array([5, 0, 4, ..., 5, 6, 8], dtype=uint8)"
      ]
     },
     "execution_count": 67,
     "metadata": {},
     "output_type": "execute_result"
    }
   ],
   "source": [
    "y_train"
   ]
  },
  {
   "cell_type": "code",
   "execution_count": 68,
   "id": "8681e873",
   "metadata": {},
   "outputs": [],
   "source": [
    "# For our example, we will only consider the binary labels as 5 and not 5\n",
    "\n",
    "y_train5 = (y_train == 5)\n",
    "y_test5 = (y_test == 5)"
   ]
  },
  {
   "cell_type": "code",
   "execution_count": 70,
   "id": "5e59d728",
   "metadata": {},
   "outputs": [
    {
     "data": {
      "text/plain": [
       "LogisticRegression(max_iter=1000, solver='liblinear')"
      ]
     },
     "execution_count": 70,
     "metadata": {},
     "output_type": "execute_result"
    }
   ],
   "source": [
    "# Implementing Logistic Regression model\n",
    "\n",
    "from sklearn.linear_model import LogisticRegression\n",
    "clf = LogisticRegression(solver = 'liblinear', max_iter = 1000)\n",
    "clf.fit(X_train, y_train5)"
   ]
  },
  {
   "cell_type": "code",
   "execution_count": 71,
   "id": "3a2280b5",
   "metadata": {},
   "outputs": [
    {
     "data": {
      "text/plain": [
       "array([ True])"
      ]
     },
     "execution_count": 71,
     "metadata": {},
     "output_type": "execute_result"
    }
   ],
   "source": [
    "# Making prediction on some data, let's say the sample \n",
    "clf.predict([sample])"
   ]
  },
  {
   "cell_type": "code",
   "execution_count": 72,
   "id": "deedd9bb",
   "metadata": {},
   "outputs": [
    {
     "data": {
      "text/plain": [
       "0.9779"
      ]
     },
     "execution_count": 72,
     "metadata": {},
     "output_type": "execute_result"
    }
   ],
   "source": [
    "clf.score(X_test, y_test5) # returns the accuracy of the model on the test set\n",
    "\n",
    "# The accuracy is measured by total number of correct predicted labels / total labels"
   ]
  },
  {
   "cell_type": "code",
   "execution_count": 77,
   "id": "f311a282",
   "metadata": {},
   "outputs": [],
   "source": [
    "y_test_pred = clf.predict(X_test)"
   ]
  },
  {
   "cell_type": "code",
   "execution_count": 80,
   "id": "63b58865",
   "metadata": {},
   "outputs": [
    {
     "data": {
      "text/plain": [
       "array([[9040,   68],\n",
       "       [ 153,  739]])"
      ]
     },
     "execution_count": 80,
     "metadata": {},
     "output_type": "execute_result"
    }
   ],
   "source": [
    "from sklearn.metrics import confusion_matrix\n",
    "\n",
    "confusion_matrix(y_test5, y_test_pred)"
   ]
  },
  {
   "cell_type": "code",
   "execution_count": 81,
   "id": "5f75324b",
   "metadata": {},
   "outputs": [],
   "source": [
    "# The confusion matrix represents a 2 * 2 matrix, where 0,0 represents the true negative values, \n",
    "# 0, 1 represents the false positive, 1,0 represents the true negative and 1,1 represent the true positive"
   ]
  },
  {
   "cell_type": "raw",
   "id": "9f1316c6",
   "metadata": {},
   "source": [
    "# Accuracy may not be a good measurement for skewed data, in that case, we may use precision or recall for \n",
    "# performance measurement\n",
    "\n",
    "Precision = TP / (TP + FP); it measures out of predicted labels, how many of them are correctly predicted\n",
    "\n",
    "and Recall = TP / (TP + FN); it measures out of total true labels, how many labels were corrected predicted \n",
    "by the model\n",
    "\n",
    "For eg: if the model predicts 5 6 5 5 as 5 5 5 5 then 3 out of 4 are correctly predicted; therefore; precision \n",
    "    would be 0.725\n",
    "    \n",
    "Precision is beneficial in situtation where false positive are our primary concern. For eg: If we want to train \n",
    "    a model where we want to identify the safe videos correctly, then we would like false positives to go less, \n",
    "    as a result we will aspire for higher precision. Recall is not our main goal here, as it is okay if some\n",
    "    videos are safe but identified as not safe, as a result recall will be less; and this is okay in this problem;\n",
    "    however, we don't want videos which are not safe, classified as safe. In other words, we are more careful about\n",
    "    keeping the false positive value to be lower. \n",
    "    \n",
    "    \n",
    "Similarly, if we want a model to catch the shoplifters, then for us, it is okay for less precision as it's fine \n",
    "if some person classified falsely as shoplifters even though it is not (that is false positive number is high),\n",
    "however, it is not good if a person is a shoplifter but is predicted as not a shoplifter, in other words, we would\n",
    "like to have the number of false negative to be low, and high recall. \n",
    "\n",
    "Usually, precision and recall cannot both increase together, and therefore, a tradeoff of threshold value is \n",
    "determined. \n",
    "\n",
    "For eg: \n",
    "    Consider that images with labels 8, 7, 3, 9, 5, 2, 5 _ 5, 6, 5, 5, 5 has a threshold at postition 1(shown with\n",
    "underscore). In this case, the precision is 4/5  and recall is 4/6. However, if we move the threshold one step \n",
    "    towards right, that is , between 5 and 6, then the precision decreases to 3/4 and recall decreases to 3/6\n",
    "    and if we move the threshold again one step to the right, then precision increases to 3/3 but recall remains\n",
    "    same as 3/6. As you can see, the precision may increase or decrease; however, as we increase the threshold\n",
    "    the recall always decreases. \n",
    "    \n",
    "    \n",
    "Therefore, the question comes that what threshold should we chose for our binary classification? \n",
    "The answer is that we plot the precision and recall with different threshold values and then depending on the\n",
    "problem we are tackling and what precision or recall is acceptable for us, we determine the threshold value. \n",
    "\n",
    "The following code is going to show that:\n",
    "                                                                                           "
   ]
  },
  {
   "cell_type": "code",
   "execution_count": null,
   "id": "f99ead4c",
   "metadata": {},
   "outputs": [],
   "source": []
  },
  {
   "cell_type": "code",
   "execution_count": 89,
   "id": "96a87c7e",
   "metadata": {},
   "outputs": [],
   "source": [
    "# It is important to note that we perform finding the threshold value on the train set and not test set.\n",
    "# Test set is only to find once we have our threshold value set, how good it performs on unseen test data. \n",
    "from sklearn.metrics import precision_recall_curve\n",
    "from sklearn.model_selection import cross_val_predict\n",
    "\n",
    "y_train_pred = cross_val_predict(clf, X_train, y_train5, cv=3, method=\"decision_function\")\n",
    "precisions, recalls, thresholds = precision_recall_curve(y_train5, y_train_pred)"
   ]
  },
  {
   "cell_type": "code",
   "execution_count": 91,
   "id": "60a3ab6d",
   "metadata": {},
   "outputs": [
    {
     "data": {
      "image/png": "[encoded data removed]",
      "text/plain": [
       "<Figure size 432x288 with 1 Axes>"
      ]
     },
     "metadata": {
      "needs_background": "light"
     },
     "output_type": "display_data"
    }
   ],
   "source": [
    "plt.plot(thresholds, precisions[:-1], 'b--', label=\"precision\")\n",
    "plt.plot(thresholds, recalls[:-1], 'g--', label=\"recall\")\n",
    "plt.xlabel('threshold')\n",
    "plt.legend()\n",
    "plt.show()"
   ]
  },
  {
   "cell_type": "raw",
   "id": "9befac2c",
   "metadata": {},
   "source": [
    "# The bumpiness of precision is because as the threshold increases the precision may go up or down as explained \n",
    "above\n",
    "\n",
    "\n",
    "Now suppose we want to achieve atleast 90% precision for our model, then we can extrapolate the value of \n",
    "threshold from this graph. \n",
    "\n",
    "\n",
    "# Another way to determine is to find what threshold is giving a precision of above 90 and then use that threshold"
   ]
  },
  {
   "cell_type": "code",
   "execution_count": 92,
   "id": "33557de1",
   "metadata": {},
   "outputs": [],
   "source": [
    "threshold_above_90_precision = thresholds[np.argmax(precisions >= 0.9)]"
   ]
  },
  {
   "cell_type": "code",
   "execution_count": 95,
   "id": "e3644fb4",
   "metadata": {},
   "outputs": [
    {
     "data": {
      "text/plain": [
       "0.12267875777846365"
      ]
     },
     "execution_count": 95,
     "metadata": {},
     "output_type": "execute_result"
    }
   ],
   "source": [
    "threshold_above_90_precision\n",
    "\n",
    "# if you plot a line vertical to the point 0.12267 then we will find that we have a precision of 90 and recall\n",
    "#of around 44 for this threshold value.  "
   ]
  },
  {
   "cell_type": "code",
   "execution_count": 96,
   "id": "5fd2be9b",
   "metadata": {},
   "outputs": [],
   "source": [
    "# another metric to determine the performance on binary classifier is the ROC curve. \n",
    "# If the area of the ROC curve is close to 1, then the calssifier is perfomring better\n",
    "\n",
    "# ROC curve is the plot between true positive rate (recall) vs false positive rate (FPR)\n",
    "# FPR = FP / FP + TN\n",
    "\n",
    "# in this case also, there is a tradeoff between recall and FPR, if recall goes high, then it means,\n",
    "# we are lowering the threshold, as a result, there will be many examples which are negative labels, but will\n",
    "# be marked as positive. As a result, the false positives number increases. Therefore, the higher the recall, \n",
    "# leads to higher false positives. A good classifier would try to have high recall at low number of false positive\n",
    "# as a result, we like the curve to be as high as possible leading to area of 1. \n",
    "\n",
    "\n",
    "# We can calculate it in scikit learn from the following code:"
   ]
  },
  {
   "cell_type": "code",
   "execution_count": 97,
   "id": "1f6f87f0",
   "metadata": {},
   "outputs": [
    {
     "data": {
      "text/plain": [
       "0.9749441853820682"
      ]
     },
     "execution_count": 97,
     "metadata": {},
     "output_type": "execute_result"
    }
   ],
   "source": [
    "from sklearn.metrics import roc_auc_score\n",
    "roc_auc_score(y_train5, y_train_pred)"
   ]
  },
  {
   "cell_type": "code",
   "execution_count": 100,
   "id": "876667aa",
   "metadata": {},
   "outputs": [
    {
     "data": {
      "image/png": "[encoded data removed]",
      "text/plain": [
       "<Figure size 432x288 with 1 Axes>"
      ]
     },
     "metadata": {
      "needs_background": "light"
     },
     "output_type": "display_data"
    }
   ],
   "source": [
    "from sklearn.metrics import roc_curve\n",
    "\n",
    "fpr, tpr, thresholds = roc_curve(y_train5, y_train_pred)\n",
    "\n",
    "plt.plot(fpr, tpr, linewidth=2)\n",
    "plt.plot([0,1], [0,1], 'k--')\n",
    "plt.xlabel('FPR')\n",
    "plt.ylabel('recall')\n",
    "plt.show()"
   ]
  },
  {
   "cell_type": "raw",
   "id": "91ea5379",
   "metadata": {},
   "source": [
    "# Finally we talked about multiclass classification, where how to use binary classifiers to predict more than \n",
    "# two labels. \n",
    "\n",
    "We use the technique of one-vs-all, where we train a model one for each label, and then we predict a test exmaple\n",
    "to all the models, and the one which gives the highest score is considered as the correct model, and the label \n",
    "it was trained for, as the final label.\n",
    "\n",
    "\n",
    "Similarly, we can do one-vs-one classifier, Where we can have n*(n-1)/2 models, one for each pair of labels, \n",
    "and during classification, we pass image from each classifier, and the label which is predicted most of the time \n",
    "across all classifiers is used as the final predicted label."
   ]
  },
  {
   "cell_type": "code",
   "execution_count": null,
   "id": "af7de449",
   "metadata": {},
   "outputs": [],
   "source": []
  }
 ],
 "metadata": {
  "kernelspec": {
   "display_name": "Python 3.8 (tensorflow)",
   "language": "python",
   "name": "tf"
  },
  "language_info": {
   "codemirror_mode": {
    "name": "ipython",
    "version": 3
   },
   "file_extension": ".py",
   "mimetype": "text/x-python",
   "name": "python",
   "nbconvert_exporter": "python",
   "pygments_lexer": "ipython3",
   "version": "3.8.10"
  }
 },
 "nbformat": 4,
 "nbformat_minor": 5
}
